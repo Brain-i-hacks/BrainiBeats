{
 "cells": [
  {
   "cell_type": "code",
   "execution_count": 83,
   "id": "c12b2f50",
   "metadata": {},
   "outputs": [],
   "source": [
    "import os\n",
    "import pandas as pd\n",
    "import matplotlib.pyplot as plt\n",
    "import numpy as np\n",
    "\n",
    "os.chdir('C:\\\\Users\\\\anita\\\\OneDrive\\\\Bureaublad\\\\Anita\\'s stuff II\\\\Tilburg university\\\\BrainiBeats')\n",
    "\n",
    "preq = pd.read_csv('PreQ.csv')\n",
    "postq = pd.read_csv('PostQ.csv')\n"
   ]
  },
  {
   "cell_type": "code",
   "execution_count": 74,
   "id": "928b7e6f",
   "metadata": {},
   "outputs": [
    {
     "name": "stdout",
     "output_type": "stream",
     "text": [
      "['StartDate', 'EndDate', 'Status', 'IPAddress', 'Progress', 'Duration (in seconds)', 'Finished', 'RecordedDate', 'ResponseId', 'RecipientLastName', 'RecipientFirstName', 'RecipientEmail', 'ExternalReference', 'LocationLatitude', 'LocationLongitude', 'DistributionChannel', 'UserLanguage', 'Num', 'Q1', 'Q2', 'Q3', 'Q4', 'Q6', 'Q7', 'Q8', 'Q9', 'Q11', 'Q12', 'Q13', 'Q14_Id', 'Q14_Name', 'Q14_Size', 'Q14_Type', 'D1', 'D2', 'D3', 'P1_1', 'P1_2', 'P1_3', 'P1_4', 'P1_5', 'P1_6', 'P1_7', 'P1_8', 'P1_9', 'P1_10', 'P1_11', 'P1_12', 'P1_13', 'P1_14', 'P1_15', 'P1_16', 'P1_17', 'P1_18', 'P1_19', 'P1_20', 'UBC1_1', 'UBC2_1', 'UBC3_1', 'UBC4_1', 'UBC5_1', 'UBC6_1', 'UBC7_1', 'UBC8_1', 'UBC9_1', 'UBC10_1', 'PT1_1', 'PT2_1', 'PT3_1', 'PT4_1', 'PT5_1', 'PT6_1', 'PT7_1', 'EC1_1', 'EC2_1', 'EC3_1', 'EC4_1', 'EC5_1', 'EC6_1', 'C1_1', 'C2_1', 'C3_1', 'Q107_1', 'I1_1', 'I2_1', 'I3_1', 'I4_1', 'I5_1', 'I6_1', 'I7_1', 'I8_1', 'I9_1', 'I10_1', 'I11_1', 'H1_1', 'H2_1', 'H3_1', 'H4_1', 'H5_1', 'H6_1', 'H7_1', 'H8_1', 'Group project', 'Vacation', 'Business']\n"
     ]
    }
   ],
   "source": [
    "print([i for i in preq.columns])"
   ]
  },
  {
   "cell_type": "code",
   "execution_count": 80,
   "id": "cce7cb49",
   "metadata": {},
   "outputs": [
    {
     "name": "stdout",
     "output_type": "stream",
     "text": [
      "0           Participant number\n",
      "1     {\"ImportId\":\"QID2_TEXT\"}\n",
      "4                           P4\n",
      "5                            3\n",
      "6                            5\n",
      "7                           P6\n",
      "8                           P8\n",
      "9                            7\n",
      "10                           9\n",
      "11                         P10\n",
      "Name: Num, dtype: object\n",
      "12       P12\n",
      "13        11\n",
      "14       P14\n",
      "15        15\n",
      "16        16\n",
      "17    15Real\n",
      "18        18\n",
      "19        17\n",
      "Name: Num, dtype: object\n"
     ]
    },
    {
     "name": "stderr",
     "output_type": "stream",
     "text": [
      "C:\\Users\\anita\\AppData\\Local\\Temp\\ipykernel_19608\\2102787648.py:2: SettingWithCopyWarning: \n",
      "A value is trying to be set on a copy of a slice from a DataFrame\n",
      "\n",
      "See the caveats in the documentation: https://pandas.pydata.org/pandas-docs/stable/user_guide/indexing.html#returning-a-view-versus-a-copy\n",
      "  pre_sync.drop([2,3], inplace = True)\n"
     ]
    }
   ],
   "source": [
    "pre_sync = preq[:12]\n",
    "pre_sync.drop([2,3], inplace = True)\n",
    "\n",
    "pre_rand = preq[12:]\n",
    "#pre_rand.drop([15], inplace = True)\n",
    "\n",
    "print(pre_sync['Num'])\n",
    "print(pre_rand['Num'])"
   ]
  },
  {
   "cell_type": "code",
   "execution_count": 107,
   "id": "e345f407",
   "metadata": {},
   "outputs": [
    {
     "name": "stdout",
     "output_type": "stream",
     "text": [
      "0           Participant number\n",
      "1     {\"ImportId\":\"QID2_TEXT\"}\n",
      "4                            2\n",
      "5                           P4\n",
      "6                            5\n",
      "7                           P6\n",
      "8                           P8\n",
      "9                            7\n",
      "10                           9\n",
      "11                         P10\n",
      "Name: Num, dtype: object\n",
      "12        11\n",
      "13       P12\n",
      "14       P14\n",
      "15        15\n",
      "16    15Real\n",
      "17        16\n",
      "18        17\n",
      "19        18\n",
      "Name: Num, dtype: object\n"
     ]
    },
    {
     "name": "stderr",
     "output_type": "stream",
     "text": [
      "C:\\Users\\anita\\AppData\\Local\\Temp\\ipykernel_19608\\2583355028.py:2: SettingWithCopyWarning: \n",
      "A value is trying to be set on a copy of a slice from a DataFrame\n",
      "\n",
      "See the caveats in the documentation: https://pandas.pydata.org/pandas-docs/stable/user_guide/indexing.html#returning-a-view-versus-a-copy\n",
      "  post_sync.drop([2,3], inplace = True)\n"
     ]
    }
   ],
   "source": [
    "post_sync = postq[:12]\n",
    "post_sync.drop([2,3], inplace = True)\n",
    "\n",
    "post_rand = postq[12:]\n",
    "#post_rand.drop([15], inplace = True)\n",
    "\n",
    "print(post_sync['Num'])\n",
    "print(post_rand['Num'])"
   ]
  },
  {
   "cell_type": "code",
   "execution_count": 115,
   "id": "fa96e55d",
   "metadata": {},
   "outputs": [
    {
     "name": "stdout",
     "output_type": "stream",
     "text": [
      "4     2\n",
      "5     1\n",
      "6     1\n",
      "7     1\n",
      "8     1\n",
      "9     2\n",
      "10    3\n",
      "11    2\n",
      "Name: C1_1, dtype: object\n"
     ]
    }
   ],
   "source": [
    "print(pre_sync['C1_1'][2:])"
   ]
  },
  {
   "cell_type": "code",
   "execution_count": 117,
   "id": "a0b3c317",
   "metadata": {},
   "outputs": [
    {
     "name": "stdout",
     "output_type": "stream",
     "text": [
      "Mean IOS Random, Pre:  2.875\n",
      "SD IOS Random, Pre:  1.7633419974582356\n",
      "\n",
      "\n",
      "Mean IOS Random, Post:  4.25\n",
      "SD IOS Random, Post:  1.479019945774904\n",
      "\n",
      "\n",
      "Mean IOS Sync, Pre:  1.625\n",
      "SD IOS Sync, Pre:  0.6959705453537527\n",
      "\n",
      "\n",
      "Mean IOS Sync, Post:  3.125\n",
      "SD IOS Sync, Post:  0.6959705453537527\n"
     ]
    }
   ],
   "source": [
    "print('Mean IOS Random, Pre: ', np.mean(pre_rand['C1_1'].astype(int)))\n",
    "print('SD IOS Random, Pre: ', np.std(pre_rand['C1_1'].astype(int)))\n",
    "\n",
    "print('\\n')\n",
    "\n",
    "print('Mean IOS Random, Post: ', np.mean(post_rand['C1_1'].astype(int)))\n",
    "print('SD IOS Random, Post: ', np.std(post_rand['C1_1'].astype(int)))\n",
    "\n",
    "\n",
    "print('\\n')\n",
    "\n",
    "print('Mean IOS Sync, Pre: ', np.mean(pre_sync['C1_1'][2:].astype(int)))\n",
    "print('SD IOS Sync, Pre: ', np.std(pre_sync['C1_1'][2:].astype(int)))\n",
    "\n",
    "print('\\n')\n",
    "\n",
    "print('Mean IOS Sync, Post: ', np.mean(post_sync['C1_1'][2:].astype(int)))\n",
    "print('SD IOS Sync, Post: ', np.std(pre_sync['C1_1'][2:].astype(int)))"
   ]
  }
 ],
 "metadata": {
  "kernelspec": {
   "display_name": "Python 3 (ipykernel)",
   "language": "python",
   "name": "python3"
  },
  "language_info": {
   "codemirror_mode": {
    "name": "ipython",
    "version": 3
   },
   "file_extension": ".py",
   "mimetype": "text/x-python",
   "name": "python",
   "nbconvert_exporter": "python",
   "pygments_lexer": "ipython3",
   "version": "3.9.12"
  }
 },
 "nbformat": 4,
 "nbformat_minor": 5
}
