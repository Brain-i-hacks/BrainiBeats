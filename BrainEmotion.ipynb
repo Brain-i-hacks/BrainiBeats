{
 "cells": [
  {
   "cell_type": "code",
   "execution_count": 1,
   "metadata": {},
   "outputs": [],
   "source": [
    "import numpy as np\n",
    "from sklearn import preprocessing\n",
    "import matplotlib.pyplot as plt\n",
    "import os\n",
    "import pandas as pd\n",
    "%matplotlib inline\n",
    "os.chdir('C:\\\\Users\\\\Gebruiker\\\\Desktop\\Rotzooi begint hier\\\\uvt\\\\Brainihacks\\\\emotunz')"
   ]
  },
  {
   "cell_type": "code",
   "execution_count": 61,
   "metadata": {},
   "outputs": [],
   "source": [
    "path = 'C:\\\\Users\\\\Gebruiker\\\\Desktop\\\\Rotzooi begint hier\\\\uvt\\\\Brainihacks\\\\emotunz\\\\sadethel\\\\5.csv'\n",
    "\n",
    "\n",
    "with open(path) as file:\n",
    "    data = file.readlines()\n",
    "    \n",
    "\n",
    "eeg = data[0].replace('\\'', '')\n",
    "eeg = eeg.split(',')"
   ]
  },
  {
   "cell_type": "code",
   "execution_count": 62,
   "metadata": {},
   "outputs": [],
   "source": [
    "count = 0\n",
    "#'FZ', 'C3', 'CZ', 'C4', 'PZ', 'F3', 'OZ', 'F4'\n",
    "Fz = []\n",
    "C3 = []\n",
    "Cz = []\n",
    "C4 = []\n",
    "Pz = []\n",
    "F3 = []\n",
    "POz = []\n",
    "F4 = []\n",
    "\n",
    "for i in range(len(eeg)):\n",
    "    if count == 0:\n",
    "        Fz.append(float(eeg[i]))\n",
    "    elif count == 1:\n",
    "        C3.append(float(eeg[i]))\n",
    "    elif count == 2:\n",
    "        Cz.append(float(eeg[i]))\n",
    "    elif count ==3:\n",
    "        C4.append(float(eeg[i]))\n",
    "    elif count == 4:\n",
    "        Pz.append(float(eeg[i]))\n",
    "    elif count == 5:\n",
    "        F3.append(float(eeg[i]))\n",
    "    elif count == 6:\n",
    "        POz.append(float(eeg[i]))\n",
    "    elif count ==7:\n",
    "        F4.append(float(eeg[i]))\n",
    "    count += 1\n",
    "    if count == 8:\n",
    "        count = 0\n",
    "        "
   ]
  },
  {
   "cell_type": "code",
   "execution_count": 63,
   "metadata": {},
   "outputs": [
    {
     "data": {
      "text/html": [
       "<div>\n",
       "<style scoped>\n",
       "    .dataframe tbody tr th:only-of-type {\n",
       "        vertical-align: middle;\n",
       "    }\n",
       "\n",
       "    .dataframe tbody tr th {\n",
       "        vertical-align: top;\n",
       "    }\n",
       "\n",
       "    .dataframe thead th {\n",
       "        text-align: right;\n",
       "    }\n",
       "</style>\n",
       "<table border=\"1\" class=\"dataframe\">\n",
       "  <thead>\n",
       "    <tr style=\"text-align: right;\">\n",
       "      <th></th>\n",
       "      <th>Fz</th>\n",
       "      <th>C3</th>\n",
       "      <th>Cz</th>\n",
       "      <th>C4</th>\n",
       "      <th>Pz</th>\n",
       "      <th>F3</th>\n",
       "      <th>POz</th>\n",
       "      <th>F4</th>\n",
       "    </tr>\n",
       "  </thead>\n",
       "  <tbody>\n",
       "    <tr>\n",
       "      <th>0</th>\n",
       "      <td>0.00000</td>\n",
       "      <td>0.00000</td>\n",
       "      <td>0.0000</td>\n",
       "      <td>0.00000</td>\n",
       "      <td>0.00000</td>\n",
       "      <td>0.000000</td>\n",
       "      <td>0.000000</td>\n",
       "      <td>0.000000</td>\n",
       "    </tr>\n",
       "    <tr>\n",
       "      <th>1</th>\n",
       "      <td>645396.18750</td>\n",
       "      <td>121220.21875</td>\n",
       "      <td>607936.7500</td>\n",
       "      <td>-750000.12500</td>\n",
       "      <td>435198.50000</td>\n",
       "      <td>373894.531250</td>\n",
       "      <td>262707.937500</td>\n",
       "      <td>750000.062500</td>\n",
       "    </tr>\n",
       "    <tr>\n",
       "      <th>2</th>\n",
       "      <td>284472.62500</td>\n",
       "      <td>301610.68750</td>\n",
       "      <td>735763.5000</td>\n",
       "      <td>-750000.12500</td>\n",
       "      <td>466367.65625</td>\n",
       "      <td>342158.468750</td>\n",
       "      <td>161793.203125</td>\n",
       "      <td>680353.062500</td>\n",
       "    </tr>\n",
       "    <tr>\n",
       "      <th>3</th>\n",
       "      <td>-486070.71875</td>\n",
       "      <td>557480.93750</td>\n",
       "      <td>750000.0625</td>\n",
       "      <td>-251149.21875</td>\n",
       "      <td>470216.62500</td>\n",
       "      <td>-25642.191406</td>\n",
       "      <td>251687.718750</td>\n",
       "      <td>590352.437500</td>\n",
       "    </tr>\n",
       "    <tr>\n",
       "      <th>4</th>\n",
       "      <td>-750000.12500</td>\n",
       "      <td>750000.06250</td>\n",
       "      <td>750000.0625</td>\n",
       "      <td>405274.06250</td>\n",
       "      <td>481722.59375</td>\n",
       "      <td>205055.718750</td>\n",
       "      <td>437078.625000</td>\n",
       "      <td>214812.515625</td>\n",
       "    </tr>\n",
       "  </tbody>\n",
       "</table>\n",
       "</div>"
      ],
      "text/plain": [
       "             Fz            C3           Cz            C4            Pz  \\\n",
       "0       0.00000       0.00000       0.0000       0.00000       0.00000   \n",
       "1  645396.18750  121220.21875  607936.7500 -750000.12500  435198.50000   \n",
       "2  284472.62500  301610.68750  735763.5000 -750000.12500  466367.65625   \n",
       "3 -486070.71875  557480.93750  750000.0625 -251149.21875  470216.62500   \n",
       "4 -750000.12500  750000.06250  750000.0625  405274.06250  481722.59375   \n",
       "\n",
       "              F3            POz             F4  \n",
       "0       0.000000       0.000000       0.000000  \n",
       "1  373894.531250  262707.937500  750000.062500  \n",
       "2  342158.468750  161793.203125  680353.062500  \n",
       "3  -25642.191406  251687.718750  590352.437500  \n",
       "4  205055.718750  437078.625000  214812.515625  "
      ]
     },
     "execution_count": 63,
     "metadata": {},
     "output_type": "execute_result"
    }
   ],
   "source": [
    "rawEEG = pd.DataFrame({'Fz':Fz, 'C3': C3, 'Cz': Cz, 'C4':C4, 'Pz':Pz, 'F3':F3, 'POz':POz, 'F4':F4})\n",
    "rawEEG.head(5)"
   ]
  },
  {
   "cell_type": "code",
   "execution_count": 64,
   "metadata": {},
   "outputs": [],
   "source": [
    "from sklearn import preprocessing\n",
    "\n",
    "def scaleChannel(arr):\n",
    "    \n",
    "    reshaped_arr = arr.reshape(-1, 1)\n",
    "    #scaler = preprocessing.StandardScaler().fit(X_train)\n",
    "    scaler = preprocessing.MinMaxScaler()\n",
    "    scaler = scaler.fit(reshaped_arr)\n",
    "    channel_scaled = scaler.transform(reshaped_arr)\n",
    "    return channel_scaled\n",
    "\n",
    "# Checking reconstruction\n",
    "#X_rec = scaler.inverse_transform(X_scaled)\n",
    "\n",
    "F3Channel = np.array(rawEEG['F3'][500:])\n",
    "F3Scaled = scaleChannel(F3Channel)\n",
    "F4Channel = np.array(rawEEG['F4'][500:])\n",
    "F4Scaled = scaleChannel(F4Channel)"
   ]
  },
  {
   "cell_type": "code",
   "execution_count": 65,
   "metadata": {},
   "outputs": [
    {
     "data": {
      "image/png": "[encoded data removed]",
      "text/plain": [
       "<Figure size 432x288 with 1 Axes>"
      ]
     },
     "metadata": {
      "needs_background": "light"
     },
     "output_type": "display_data"
    }
   ],
   "source": [
    "plt.plot(F3Scaled, label = 'F3')\n",
    "plt.plot(F4Scaled, label = 'F4')\n",
    "plt.title('F3 and F4 EthelSad')\n",
    "plt.legend()\n",
    "plt.savefig('Asymmetry EthelSad', dpi = 300)"
   ]
  },
  {
   "cell_type": "code",
   "execution_count": 66,
   "metadata": {},
   "outputs": [],
   "source": [
    "def FrontalAlphaAsymmetry(left, right):\n",
    "    epochs = []\n",
    "    lefthem = []\n",
    "    righthem = []\n",
    "    #sample freq = 250 Hz\n",
    "    #8 seconds = 2000 samples per epoch\n",
    "    count = 0\n",
    "    for i in range(len(left)):\n",
    "        \n",
    "       \n",
    "        lefthem.append(left[i])\n",
    "        righthem.append(right[i])\n",
    "        \n",
    "        \n",
    "        if count == 2000:\n",
    "            FFTLefthem = np.fft.fft(lefthem).real\n",
    "            FFTRighthem = np.fft.fft(righthem).real\n",
    "            \n",
    "            FFTLefthem = np.nanmean(FFTLefthem[8:12])\n",
    "            #print(FFTLefthem)\n",
    "            FFTRighthem = np.nanmean(FFTRighthem[8:12])\n",
    "        \n",
    "            FrontalAlpha = np.log10(abs(FFTRighthem) /abs(FFTLefthem))\n",
    "            epochs.append(FrontalAlpha)\n",
    "            count = 0\n",
    "            lefthem = []\n",
    "            righthem = []\n",
    "        count += 1\n",
    "        \n",
    "        \n",
    "        \n",
    "    return epochs\n",
    "\n",
    "FAA = FrontalAlphaAsymmetry(F3Scaled, F4Scaled)"
   ]
  },
  {
   "cell_type": "code",
   "execution_count": 67,
   "metadata": {},
   "outputs": [
    {
     "data": {
      "image/png": "[encoded data removed]",
      "text/plain": [
       "<Figure size 432x288 with 1 Axes>"
      ]
     },
     "metadata": {
      "needs_background": "light"
     },
     "output_type": "display_data"
    }
   ],
   "source": [
    "plt.plot(FAA, color = '#03256C')\n",
    "plt.title('Ethel Sad')\n",
    "plt.xlabel('Time (epoch = 8 seconds)')\n",
    "plt.ylabel('Value')\n",
    "\n",
    "\n",
    "plt.axhline(y = 0, color = '#06BEE1', alpha = 0.5)\n",
    "\n",
    "plt.savefig('FAA Plot Ethel Sad', dpi=300)"
   ]
  }
 ],
 "metadata": {
  "kernelspec": {
   "display_name": "Python 3",
   "language": "python",
   "name": "python3"
  },
  "language_info": {
   "codemirror_mode": {
    "name": "ipython",
    "version": 3
   },
   "file_extension": ".py",
   "mimetype": "text/x-python",
   "name": "python",
   "nbconvert_exporter": "python",
   "pygments_lexer": "ipython3",
   "version": "3.7.3"
  }
 },
 "nbformat": 4,
 "nbformat_minor": 2
}
