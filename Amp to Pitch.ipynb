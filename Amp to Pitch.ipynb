{
 "cells": [
  {
   "cell_type": "code",
   "execution_count": 33,
   "id": "e83edea6",
   "metadata": {},
   "outputs": [
    {
     "data": {
      "text/plain": [
       "array([ 0.59822698, -0.32480096,  0.37110209, -0.54062896, -0.302998  ,\n",
       "       -0.32868204,  0.47417157, -0.36787912,  0.58199425, -0.91089229,\n",
       "       -0.63018787, -0.80302419,  0.39853368,  0.91919224, -0.00125246,\n",
       "        0.83825609, -0.05576135,  0.37973978, -0.01656179, -0.77569312,\n",
       "        0.91695064,  0.90997641, -0.79058635, -0.51276812, -0.17825308,\n",
       "        0.93115595, -0.41203467, -0.01317325,  0.37723828, -0.5170114 ,\n",
       "       -0.87796737, -0.38547679,  0.13120507, -0.56784137, -0.90017549,\n",
       "       -0.51795504, -0.90141964, -0.2432879 , -0.0987275 ,  0.76757029,\n",
       "       -0.59313508,  0.34883174,  0.42157037, -0.63549164,  0.85783929,\n",
       "        0.53746007,  0.35487862, -0.98778852, -0.78301077,  0.76539115])"
      ]
     },
     "execution_count": 33,
     "metadata": {},
     "output_type": "execute_result"
    }
   ],
   "source": [
    "faa = np.random.uniform(-1,1,50)\n",
    "faa"
   ]
  },
  {
   "cell_type": "code",
   "execution_count": 40,
   "id": "84b0b33b",
   "metadata": {},
   "outputs": [
    {
     "name": "stdout",
     "output_type": "stream",
     "text": [
      "['62', '64', '66', '67', '81', '83', '72']\n"
     ]
    }
   ],
   "source": [
    "#mode selection\n",
    "\n",
    "\n",
    "\n",
    "ionian = [ \"62\", \"64\", \"65\", \"67\", \"81\", \"83\", \"72\"]  #Bright, Joyful, Stable\n",
    "dorian = [ \"62\", \"63\" ,\"65\", \"67\", \"81\", \"82\", \"72\"] #Jazzy, Bluesy, Rocky, Thoughtful, Uncertain, Sophisticated\n",
    "phrygian = [ \"61\" ,\"63\", \"65\", \"67\", \"80\", \"82\", \"72\"]  #Exotic, Latin, Lively, Dark, Mystic\n",
    "lydian =  [ \"62\" , \"64\" , \"66\" , \"67\" ,\"81\" ,\"83\", \"72\"] # Hopeful, Dreamy, Heavenly, Yearning, Ethereal, Uplifting\n",
    "mixolydian = [\"62\" , \"64\" , \"65\" , \"67\" , \"81\" , \"82\", \"72\"] #Positive, Bluesy, Rocky, Poppy, Searching \n",
    "aeolian = [ \"62\" , \"63\" , \"65\" , \"67\" , \"80\" , \"82\", \"72\"] #Sad, Melancholic, Romantic, Oppressive\n",
    "locrian = [ \"61\" , \"63\" , \"65\" , \"66\" , \"80\" , \"82\", \"72\"] #Complex, Unstable, Exotic, Tense\n",
    "scales = {'ionian' : ionian, 'dorian' : dorian, 'phrygian': phrygian, 'lydian': lydian, 'mixolydian':mixolydian, 'aeolian':aeolian,'locrian':locrian}\n",
    "phase = 50\n",
    "def getStep(num):\n",
    "    step = 2/7\n",
    "    return 1-num*step\n",
    "def get_Scale(faa):\n",
    "    if faa >= getStep(1):\n",
    "        return scales.get('ionian')\n",
    "\n",
    "    elif faa <= getStep(1) and faa >= getStep(2):\n",
    "        return scales.get('dorian')\n",
    "\n",
    "    elif faa <= getStep(2) and faa >= getStep(3):\n",
    "        return scales.get('phrygian')\n",
    "\n",
    "    elif faa <= getStep(3) and faa >= getStep(4):\n",
    "        return scales.get('lydian')\n",
    "\n",
    "    elif faa <= getStep(4) and faa >= getStep(5):\n",
    "        return scales.get('mixolydian')\n",
    "\n",
    "    elif faa <= getStep(5) and faa >= getStep(6):\n",
    "        return scales.get('aeolian')\n",
    "\n",
    "    elif faa <= getStep(6) and faa >= getStep(7):\n",
    "        return scales.get('locrian')\n",
    "    else:\n",
    "        return scales.get('ionian')\n",
    "    \n",
    "\n",
    "\n",
    "meanFAA = np.mean(faa)\n",
    "mode = get_Scale(meanFAA)\n",
    "print(mode)\n",
    "    "
   ]
  },
  {
   "cell_type": "code",
   "execution_count": 57,
   "id": "d2819c97",
   "metadata": {},
   "outputs": [
    {
     "name": "stdout",
     "output_type": "stream",
     "text": [
      "[141.364576    76.56096427  61.64832921  59.5549169  159.93534595\n",
      " 129.19981278 139.28628909  65.97472751  71.77444617 170.63988658\n",
      "  94.10229089 180.99229603 104.94685942  78.88189727 154.00423341\n",
      "  82.55675854  73.65420073  62.41761533 100.27047402 111.00102418\n",
      "  68.47019312  80.77530964  76.65755666  62.60829215  85.49680676\n",
      "  63.53203302  86.01778635  67.1249247   80.15644166  69.1642938\n",
      " 153.99668504 102.26054966  88.98619725  75.54819148  65.43443679\n",
      " 112.71648089  62.70963156 107.34552132 150.10672978  78.50483044\n",
      " 139.09161938  76.17995815  68.00381486  68.47550796  71.53578464\n",
      "  61.83838294 146.60466181  77.38219193 147.40350479  76.39043506]\n"
     ]
    },
    {
     "data": {
      "image/png": "[encoded data removed]",
      "text/plain": [
       "<Figure size 432x288 with 1 Axes>"
      ]
     },
     "metadata": {
      "needs_background": "light"
     },
     "output_type": "display_data"
    }
   ],
   "source": [
    "import numpy as np\n",
    "import matplotlib.pyplot as plt\n",
    "%matplotlib inline\n",
    "c = 40\n",
    "alpha = 1.1\n",
    "amp = 0\n",
    "\n",
    "\n",
    "alphas = np.random.uniform(0.5, 1.5, 50)\n",
    "amps = np.random.uniform(150, 200, 50)\n",
    "\n",
    "\n",
    "def midiRange(c, alpha, amp):\n",
    "    lamp = np.log10(amp)\n",
    "    return  (c/alpha)*lamp\n",
    "\n",
    "def midiNote(num):\n",
    "    return 0\n",
    "\n",
    "midis = midiRange(c, alphas, amps)\n",
    "plt.scatter(x = np.arange(0,50) , y = midis)\n",
    "print(midis)"
   ]
  },
  {
   "cell_type": "code",
   "execution_count": 58,
   "id": "649cba62",
   "metadata": {},
   "outputs": [
    {
     "name": "stderr",
     "output_type": "stream",
     "text": [
      "C:\\Users\\user1\\AppData\\Local\\Temp\\ipykernel_14296\\135924841.py:1: RuntimeWarning: divide by zero encountered in log10\n",
      "  np.log10(0)\n"
     ]
    },
    {
     "data": {
      "text/plain": [
       "-inf"
      ]
     },
     "execution_count": 58,
     "metadata": {},
     "output_type": "execute_result"
    }
   ],
   "source": [
    "np.log10(0)"
   ]
  },
  {
   "cell_type": "code",
   "execution_count": 66,
   "id": "816faf98",
   "metadata": {},
   "outputs": [
    {
     "name": "stdout",
     "output_type": "stream",
     "text": [
      "[[68.7367774 ]\n",
      " [63.40039644]\n",
      " [62.17238616]\n",
      " [62.        ]\n",
      " [70.266024  ]\n",
      " [67.73504603]\n",
      " [68.56563677]\n",
      " [62.52865194]\n",
      " [63.00624119]\n",
      " [71.14751047]\n",
      " [64.84487151]\n",
      " [72.        ]\n",
      " [65.73788885]\n",
      " [63.59151824]\n",
      " [69.77761487]\n",
      " [63.89413192]\n",
      " [63.16103328]\n",
      " [62.23573454]\n",
      " [65.35280269]\n",
      " [66.23643096]\n",
      " [62.73414597]\n",
      " [63.74743501]\n",
      " [63.40835053]\n",
      " [62.25143619]\n",
      " [64.13623598]\n",
      " [62.32750345]\n",
      " [64.17913707]\n",
      " [62.62336719]\n",
      " [63.6964731 ]\n",
      " [62.79130305]\n",
      " [69.77699328]\n",
      " [65.51667938]\n",
      " [64.42357671]\n",
      " [63.31699767]\n",
      " [62.48416064]\n",
      " [66.37769362]\n",
      " [62.25978119]\n",
      " [65.93541138]\n",
      " [69.45666726]\n",
      " [63.56046793]\n",
      " [68.54960631]\n",
      " [63.36902174]\n",
      " [62.69574113]\n",
      " [62.73458363]\n",
      " [62.98658813]\n",
      " [62.18803651]\n",
      " [69.16828258]\n",
      " [63.46802205]\n",
      " [69.23406488]\n",
      " [63.38635388]]\n"
     ]
    }
   ],
   "source": [
    "from sklearn import preprocessing\n",
    "\n",
    "def midiNums(arr, mode):\n",
    "    midis_arr = arr.reshape(-1, 1)\n",
    "    #scaler = preprocessing.StandardScaler().fit(X_train)\n",
    "    scaler = preprocessing.MinMaxScaler(feature_range=(int(mode[0]), int(mode[-1])))\n",
    "    scaler = scaler.fit(midis_arr)\n",
    "    midis_scaled = scaler.transform(midis_arr)\n",
    "    return midis_scaled\n",
    "\n",
    "# Checking reconstruction\n",
    "#X_rec = scaler.inverse_transform(X_scaled)\n",
    "scaled = midiNums(midis, mode)\n",
    "print(scaled)"
   ]
  },
  {
   "cell_type": "code",
   "execution_count": 74,
   "id": "3829ddd0",
   "metadata": {},
   "outputs": [
    {
     "data": {
      "text/plain": [
       "(array([11., 18.,  5.,  0.,  4.,  1.,  0.,  8.,  2.,  1.]),\n",
       " array([0. , 0.7, 1.4, 2.1, 2.8, 3.5, 4.2, 4.9, 5.6, 6.3, 7. ]),\n",
       " <BarContainer object of 10 artists>)"
      ]
     },
     "execution_count": 74,
     "metadata": {},
     "output_type": "execute_result"
    },
    {
     "data": {
      "image/png": "[encoded data removed]",
      "text/plain": [
       "<Figure size 432x288 with 1 Axes>"
      ]
     },
     "metadata": {
      "needs_background": "light"
     },
     "output_type": "display_data"
    }
   ],
   "source": [
    "\n",
    "\n",
    "def getNote(mode, midi_scaled):\n",
    "    \n",
    "    #midis_arr = arr.reshape(-1, 1)\n",
    "    #scaler = preprocessing.StandardScaler().fit(X_train)\n",
    "    scaler = preprocessing.MinMaxScaler(feature_range=(0, 7))\n",
    "    scaler = scaler.fit(midi_scaled)\n",
    "    note_index = scaler.transform(midi_scaled)\n",
    "    rounded = np.round(note_index)\n",
    "    return rounded\n",
    "    \n",
    "\n",
    "\n",
    "notes = getNote(mode, scaled)\n",
    "#plt.scatter(x = np.arange(50), y = notes)\n",
    "plt.hist(notes)"
   ]
  }
 ],
 "metadata": {
  "kernelspec": {
   "display_name": "Python 3 (ipykernel)",
   "language": "python",
   "name": "python3"
  },
  "language_info": {
   "codemirror_mode": {
    "name": "ipython",
    "version": 3
   },
   "file_extension": ".py",
   "mimetype": "text/x-python",
   "name": "python",
   "nbconvert_exporter": "python",
   "pygments_lexer": "ipython3",
   "version": "3.9.12"
  }
 },
 "nbformat": 4,
 "nbformat_minor": 5
}
